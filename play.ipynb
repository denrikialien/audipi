{
 "cells": [
  {
   "cell_type": "code",
   "execution_count": null,
   "metadata": {},
   "outputs": [],
   "source": [
    "import numpy as np\n",
    "import sounddevice as sd\n",
    "import soundfile as sf\n",
    "import threading"
   ]
  },
  {
   "cell_type": "code",
   "execution_count": null,
   "metadata": {},
   "outputs": [],
   "source": [
    "event = threading.Event()\n",
    "\n",
    "try:\n",
    "    song, sampling_rate = sf.read('./local/sample.wav', always_2d=True)\n",
    "    current_frame = 0\n",
    "\n",
    "    def callback(output, frames, time, status):\n",
    "        global current_frame\n",
    "        print(time, ' # frames:', frames, ' current:', current_frame)\n",
    "        if status:\n",
    "            print(status)\n",
    "        chunksize = min(len(song) - current_frame, frames)\n",
    "        output[:chunksize] = song[current_frame:current_frame + chunksize]\n",
    "        if chunksize < frames:\n",
    "            output[chunksize:] = 0\n",
    "            raise sd.CallbackStop()\n",
    "        current_frame += chunksize\n",
    "    \n",
    "    stream = sd.OutputStream(\n",
    "        samplerate=sampling_rate,\n",
    "        channels=song.shape[1],\n",
    "        callback=callback,\n",
    "        finished_callback=event.set\n",
    "    )\n",
    "\n",
    "    with stream:\n",
    "        event.wait()\n",
    "\n",
    "except Exception as e:\n",
    "    print(e)"
   ]
  },
  {
   "cell_type": "code",
   "execution_count": null,
   "metadata": {},
   "outputs": [],
   "source": [
    "channel_sounds = music.split_to_mono()\n",
    "samples = [s.get_array_of_samples() for s in channel_sounds]\n",
    "\n",
    "fp_arr = np.array(samples).T.astype(np.float32)\n",
    "fp_arr /= np.iinfo(samples[0].typecode).max\n",
    "\n",
    "print(fp_arr.shape)"
   ]
  },
  {
   "cell_type": "code",
   "execution_count": null,
   "metadata": {},
   "outputs": [],
   "source": [
    "sd.play(fp_arr, music.frame_rate)"
   ]
  },
  {
   "cell_type": "code",
   "execution_count": null,
   "metadata": {},
   "outputs": [],
   "source": [
    "sd.stop()"
   ]
  },
  {
   "cell_type": "code",
   "execution_count": null,
   "metadata": {},
   "outputs": [],
   "source": []
  },
  {
   "cell_type": "code",
   "execution_count": null,
   "metadata": {},
   "outputs": [],
   "source": []
  }
 ],
 "metadata": {
  "interpreter": {
   "hash": "6358b047f49fd2740f74667c83373035b2897df51ab6ba6afa138935d83c02eb"
  },
  "kernelspec": {
   "display_name": "Python 3.10.4 ('.env': venv)",
   "language": "python",
   "name": "python3"
  },
  "language_info": {
   "codemirror_mode": {
    "name": "ipython",
    "version": 3
   },
   "file_extension": ".py",
   "mimetype": "text/x-python",
   "name": "python",
   "nbconvert_exporter": "python",
   "pygments_lexer": "ipython3",
   "version": "3.10.4"
  },
  "orig_nbformat": 4
 },
 "nbformat": 4,
 "nbformat_minor": 2
}
